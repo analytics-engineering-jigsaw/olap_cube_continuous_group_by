{
 "cells": [
  {
   "cell_type": "markdown",
   "id": "suitable-retirement",
   "metadata": {},
   "source": [
    "# Data Cubes"
   ]
  },
  {
   "cell_type": "markdown",
   "id": "editorial-apple",
   "metadata": {},
   "source": [
    "### Introduction"
   ]
  },
  {
   "cell_type": "markdown",
   "id": "respected-manchester",
   "metadata": {},
   "source": [
    "In the last lesson, we saw that it was a bit easier to perform our queries when we moved to the star schema.  In this lesson, we'll see how we can query our star schema such that the result is almost a dashboard, with something called an OLAP cube."
   ]
  },
  {
   "cell_type": "markdown",
   "id": "continental-toilet",
   "metadata": {},
   "source": [
    "### Back to movie rentals"
   ]
  },
  {
   "cell_type": "markdown",
   "id": "alternate-stamp",
   "metadata": {},
   "source": [
    "Let's return to our star schema with movie rentals.  Our schema has the following: \n",
    "\n",
    "* a fact table of `factsales` and \n",
    "* dimension tables of `dimcustomer`, `dimdate`, `dimmovie`, and `dimstore`      "
   ]
  },
  {
   "cell_type": "markdown",
   "id": "alpine-shelter",
   "metadata": {},
   "source": [
    "> Remember that our fact table general describes an *event* and the dimension tables provide the context of who, what, where, and when of that event."
   ]
  },
  {
   "cell_type": "markdown",
   "id": "disciplinary-doctrine",
   "metadata": {},
   "source": [
    "Our schema looks like the following."
   ]
  },
  {
   "cell_type": "markdown",
   "id": "prostate-drill",
   "metadata": {},
   "source": [
    "<img src=\"./star_schemad_movies.png\" width=\"60%\">"
   ]
  },
  {
   "cell_type": "markdown",
   "id": "military-white",
   "metadata": {},
   "source": [
    "The schema is similar to the kind that we often encounter in companies when using the star schema.  There is some sort of sale in the center as our fact table.  \n",
    "\n",
    "With this structure, we can query our database to create something called an olap cube.  This is an olap cube."
   ]
  },
  {
   "cell_type": "markdown",
   "id": "engaging-madness",
   "metadata": {},
   "source": [
    "> <img src=\"./olap_dashboard.png\" width=\"50%\">"
   ]
  },
  {
   "cell_type": "markdown",
   "id": "large-shaft",
   "metadata": {},
   "source": [
    "So begin just by looking at the top grid with March at the top left.  This grid displays sales during the month of March, with sales broken down by store, and movie rating.  \n",
    "\n",
    "> So at Store 1 in March, G rated movies had 20,000 in sales."
   ]
  },
  {
   "cell_type": "markdown",
   "id": "behind-creation",
   "metadata": {},
   "source": [
    "So above there is a separate grid for each month, allowing us to also look at sales in April, May, etc.  \n",
    "\n",
    "This is an OLAP cube.  It displays down an aggregate metric broken down across three different dimensions.  Here, the sales are broken down per location, per rating, per month. "
   ]
  },
  {
   "cell_type": "markdown",
   "id": "preliminary-israel",
   "metadata": {},
   "source": [
    "Now how do we accomplish something like this?  Simply by grouping by the various dimensions and performing the aggregate across those dimensions.  We'll build up to performing the query for these results in the next lesson."
   ]
  },
  {
   "cell_type": "markdown",
   "id": "cooked-growing",
   "metadata": {},
   "source": [
    "### Summary"
   ]
  },
  {
   "cell_type": "markdown",
   "id": "illegal-morrison",
   "metadata": {},
   "source": [
    "In this lesson, we learned about OLAP cubes.  OLAP cubes are frequently used with an OLAP structure, and display information in a sort of three dimensional dashboard.  With an OLAP cube, we track a single metric, like aggregate sales, and can break this metric down by various criteria -- like sales per month, per store, per rating.  In the next lesson, we'll perform these queries.  "
   ]
  }
 ],
 "metadata": {
  "kernelspec": {
   "display_name": "Python 3",
   "language": "python",
   "name": "python3"
  },
  "language_info": {
   "codemirror_mode": {
    "name": "ipython",
    "version": 3
   },
   "file_extension": ".py",
   "mimetype": "text/x-python",
   "name": "python",
   "nbconvert_exporter": "python",
   "pygments_lexer": "ipython3",
   "version": "3.8.6"
  }
 },
 "nbformat": 4,
 "nbformat_minor": 5
}
