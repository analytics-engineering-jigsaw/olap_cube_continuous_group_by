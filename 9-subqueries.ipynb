{
 "cells": [
  {
   "cell_type": "code",
   "execution_count": null,
   "id": "posted-yorkshire",
   "metadata": {},
   "outputs": [],
   "source": []
  },
  {
   "cell_type": "markdown",
   "id": "sporting-routine",
   "metadata": {},
   "source": [
    "### Resources\n",
    "\n",
    "\n",
    "[Postgres subquery](https://www.postgresqltutorial.com/postgresql-subquery/)\n",
    "\n",
    "[Postgres subquery doc](https://www.postgresql.org/docs/8.1/functions-subquery.html)"
   ]
  },
  {
   "cell_type": "code",
   "execution_count": null,
   "id": "proved-adaptation",
   "metadata": {},
   "outputs": [],
   "source": []
  }
 ],
 "metadata": {
  "kernelspec": {
   "display_name": "Python 3",
   "language": "python",
   "name": "python3"
  },
  "language_info": {
   "codemirror_mode": {
    "name": "ipython",
    "version": 3
   },
   "file_extension": ".py",
   "mimetype": "text/x-python",
   "name": "python",
   "nbconvert_exporter": "python",
   "pygments_lexer": "ipython3",
   "version": "3.8.6"
  }
 },
 "nbformat": 4,
 "nbformat_minor": 5
}
