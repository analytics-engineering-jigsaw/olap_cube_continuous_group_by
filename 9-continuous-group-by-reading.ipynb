{
 "cells": [
  {
   "cell_type": "markdown",
   "id": "unlikely-seattle",
   "metadata": {},
   "source": [
    "# Continuous Group By"
   ]
  },
  {
   "cell_type": "markdown",
   "id": "vertical-julian",
   "metadata": {},
   "source": [
    "### Introduction"
   ]
  },
  {
   "cell_type": "markdown",
   "id": "democratic-violin",
   "metadata": {},
   "source": [
    "In the previous lessons, we worked to create data dashboards, essentially by grouping our data by *discrete* values.  For example, we grouped our sales by the rating, or by the month of the sales.  \n",
    "\n",
    "But what if we wanted to group our data by continuous variables, like the length of the movie.  This involves a bit more work as we'll explore it in this lesson."
   ]
  },
  {
   "cell_type": "markdown",
   "id": "centered-angel",
   "metadata": {},
   "source": [
    "### Grouping by movie length "
   ]
  },
  {
   "cell_type": "markdown",
   "id": "cardiac-cheat",
   "metadata": {},
   "source": [
    "Let's use the example of calculating the number of rentals of movies, this time by the length of the movie.  Here, we wouldn't want to group by every minute of movie length, but rather in a range of ten minute increments.  This way we can see how a 100 minute movie performs in comparison with a 110 minute movie, and so on.  \n",
    "\n",
    "Let's show you the code to accomplish this, and then we'll break it down."
   ]
  },
  {
   "cell_type": "markdown",
   "id": "hazardous-israeli",
   "metadata": {},
   "source": [
    "> First we create a connection to our database."
   ]
  },
  {
   "cell_type": "code",
   "execution_count": 7,
   "id": "contrary-vermont",
   "metadata": {},
   "outputs": [],
   "source": [
    "import psycopg2\n",
    "\n",
    "def get_cursor():\n",
    "    conn = psycopg2.connect(\n",
    "    host=\"127.0.0.1\",\n",
    "    database=\"pagila_starred\",\n",
    "    user=\"postgres\",\n",
    "    password=\"postgres\")\n",
    "    cursor = conn.cursor()\n",
    "    return cursor\n",
    "\n",
    "cursor = get_cursor()"
   ]
  },
  {
   "cell_type": "markdown",
   "id": "convenient-grain",
   "metadata": {},
   "source": [
    "And now let's see the query."
   ]
  },
  {
   "cell_type": "code",
   "execution_count": 8,
   "id": "dependent-spare",
   "metadata": {},
   "outputs": [],
   "source": [
    "query = \"\"\"\n",
    "SELECT (dimmovie.length/ 10::integer) as movie_length, COUNT(factsales.sales_key)\n",
    "FROM factsales \n",
    "JOIN dimmovie ON factsales.movie_key = dimmovie.movie_key \n",
    "GROUP BY (movie_length)\n",
    "ORDER BY movie_length DESC LIMIT 8;\n",
    "\"\"\""
   ]
  },
  {
   "cell_type": "code",
   "execution_count": 9,
   "id": "established-remark",
   "metadata": {},
   "outputs": [
    {
     "data": {
      "text/plain": [
       "[(18, 642),\n",
       " (17, 1254),\n",
       " (16, 956),\n",
       " (15, 1012),\n",
       " (14, 1227),\n",
       " (13, 1191),\n",
       " (12, 1135),\n",
       " (11, 1279)]"
      ]
     },
     "execution_count": 9,
     "metadata": {},
     "output_type": "execute_result"
    }
   ],
   "source": [
    "cursor.execute(query)\n",
    "grouped_lengths = cursor.fetchall()\n",
    "grouped_lengths"
   ]
  },
  {
   "cell_type": "markdown",
   "id": "touched-delta",
   "metadata": {},
   "source": [
    "So above, we have the number of sales of movies of length 180 minutes, 170 minutes and so on.  Take a look at how we accomplished this:\n",
    "\n",
    "```SQL\n",
    "SELECT (dimmovie.length/ 10::integer) as movie_length \n",
    "```"
   ]
  },
  {
   "cell_type": "markdown",
   "id": "provincial-delicious",
   "metadata": {},
   "source": [
    "So we divided the length of the move by 10, (so that 184 minutes now became 18.4, and the coerced this to an integer giving us 18), and then grouped by that coerced number."
   ]
  },
  {
   "cell_type": "code",
   "execution_count": 10,
   "id": "eastern-karma",
   "metadata": {},
   "outputs": [
    {
     "data": {
      "text/plain": [
       "[(18, 642),\n",
       " (17, 1254),\n",
       " (16, 956),\n",
       " (15, 1012),\n",
       " (14, 1227),\n",
       " (13, 1191),\n",
       " (12, 1135),\n",
       " (11, 1279)]"
      ]
     },
     "execution_count": 10,
     "metadata": {},
     "output_type": "execute_result"
    }
   ],
   "source": [
    "grouped_lengths"
   ]
  },
  {
   "cell_type": "markdown",
   "id": "matched-serum",
   "metadata": {},
   "source": [
    "Let's see that query again."
   ]
  },
  {
   "cell_type": "markdown",
   "id": "extended-contrast",
   "metadata": {},
   "source": [
    "```SQL\n",
    "SELECT (dimmovie.length/ 10::integer) as movie_length, COUNT(factsales.sales_key)  FROM factsales \n",
    "JOIN dimmovie ON factsales.movie_key = dimmovie.movie_key \n",
    "GROUP BY (movie_length)\n",
    "ORDER BY movie_length DESC LIMIT 10;\n",
    "```"
   ]
  },
  {
   "cell_type": "markdown",
   "id": "addressed-extension",
   "metadata": {},
   "source": [
    "Of course displaying our movie length as 18 minutes when it's really in the range of 180 isn't quite right.  So after rounding down to the integer value, let's multiply our movie value back up by 10."
   ]
  },
  {
   "cell_type": "code",
   "execution_count": 11,
   "id": "seeing-floating",
   "metadata": {},
   "outputs": [
    {
     "data": {
      "text/plain": [
       "[(180, 642),\n",
       " (170, 1254),\n",
       " (160, 956),\n",
       " (150, 1012),\n",
       " (140, 1227),\n",
       " (130, 1191),\n",
       " (120, 1135),\n",
       " (110, 1279)]"
      ]
     },
     "execution_count": 11,
     "metadata": {},
     "output_type": "execute_result"
    }
   ],
   "source": [
    "query = \"\"\"\n",
    "SELECT ((dimmovie.length/ 10::integer)* 10)  as movie_length, COUNT(factsales.sales_key)  FROM factsales \n",
    "JOIN dimmovie ON factsales.movie_key = dimmovie.movie_key \n",
    "GROUP BY (movie_length)\n",
    "ORDER BY movie_length DESC LIMIT 8;\n",
    "\"\"\"\n",
    "cursor.execute(query)\n",
    "cursor.fetchall()"
   ]
  },
  {
   "cell_type": "markdown",
   "id": "passive-hawaiian",
   "metadata": {},
   "source": [
    "So this time we updated the key part of the query above to the following:"
   ]
  },
  {
   "cell_type": "markdown",
   "id": "suffering-balloon",
   "metadata": {},
   "source": [
    "```SQL\n",
    "SELECT ((dimmovie.length/ 10::integer)* 10)  as movie_length\n",
    "```"
   ]
  },
  {
   "cell_type": "markdown",
   "id": "parental-portland",
   "metadata": {},
   "source": [
    "So we first divided by 10 to turn into an integer, and then with the decimal gone, we multiplied by 10 again. "
   ]
  },
  {
   "cell_type": "markdown",
   "id": "pressing-lounge",
   "metadata": {},
   "source": [
    "### Practice continuous grouping"
   ]
  },
  {
   "cell_type": "markdown",
   "id": "confident-richmond",
   "metadata": {},
   "source": [
    "Now, below, let try grouping by rental duration.  We want to group in increments of 2 (so how many rentals were 0-2 days, how many 2 -4, etc)."
   ]
  },
  {
   "cell_type": "markdown",
   "id": "turkish-agenda",
   "metadata": {},
   "source": [
    "> **Update the code so that it matches the commented out result below**."
   ]
  },
  {
   "cell_type": "code",
   "execution_count": null,
   "id": "differential-liverpool",
   "metadata": {},
   "outputs": [],
   "source": [
    "query = \"\"\"\n",
    "SELECT (dimmovie.rental_duration) as duration, COUNT(factsales.sales_key)  \n",
    "FROM factsales\n",
    "JOIN dimmovie ON factsales.movie_key = dimmovie.movie_key \n",
    "GROUP BY (duration)\n",
    "ORDER BY duration ASC LIMIT 8;\n",
    "\"\"\"\n",
    "cursor.execute(query)\n",
    "cursor.fetchall()\n",
    "\n",
    "# [(2, 3412), (4, 6416), (6, 6221)]"
   ]
  },
  {
   "cell_type": "markdown",
   "id": "inappropriate-demand",
   "metadata": {},
   "source": [
    "### Summary"
   ]
  },
  {
   "cell_type": "markdown",
   "id": "handed-armstrong",
   "metadata": {},
   "source": [
    "In this lesson, we saw how to group by continuous values.  We did so by first dividing by the size of the interval, then rounding to an integer, and then multiplying by the amount we originally divided by.  This is a useful technique with data dashboards."
   ]
  }
 ],
 "metadata": {
  "kernelspec": {
   "display_name": "Python 3",
   "language": "python",
   "name": "python3"
  },
  "language_info": {
   "codemirror_mode": {
    "name": "ipython",
    "version": 3
   },
   "file_extension": ".py",
   "mimetype": "text/x-python",
   "name": "python",
   "nbconvert_exporter": "python",
   "pygments_lexer": "ipython3",
   "version": "3.8.6"
  }
 },
 "nbformat": 4,
 "nbformat_minor": 5
}
